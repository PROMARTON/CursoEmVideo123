#https://youtu.be/Qp2cXfCHk2I - Exercício 076 - Solução apresentada

print(f'{"Listagem de Material":^35}')
lista1 = ('Régua', 2.2,
          'Caderno', 4.5,
          'Caneta', 1.6,
          'Uniforme', 59.9)
for posic in range (0, len(lista1)):
  if posic % 2 == 0:
    print(f'{lista1[posic]:.<30}',end='')
  else:
    print(f'R${lista1[posic]:>6.2f}')
