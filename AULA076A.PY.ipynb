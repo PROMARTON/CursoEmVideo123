#https://youtu.be/Qp2cXfCHk2I - Exercício 076 - Comentários
prod = ('Régua', 2.2,
        'Caderno', 4.5,
        'Caneta', 1.6,
        'Uniforme', 59.9)
print('{:=^30}'.format('LISTA DE MATERIAIS - SEM CONDIÇÃO IF'))
for itens in range(0, len(prod), 2):
    print('{:.<20}R$ {:>6.2f}'.format(prod[itens], prod[itens+1]))
print('{:=^30}'.format('\nLISTA DE MATERIAIS - USANDO CONDIÇÃO IF'))
for i in prod:
    if type(i) is str:
        print(f'{i:.<20}', end='')
    else:
        print(f'R$ {i:>6.2f}')
