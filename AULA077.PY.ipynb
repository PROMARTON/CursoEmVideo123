#https://youtu.be/8BgSqrOpKvU - Exercício 077 - Solução aprimorada

palavras = ('Régua', 'Mochila',
            'Caderno', 'Livro',
            'Caneta', 'Tesoura',
            'Uniforme', 'Tênis')
for pos, vogal in enumerate(palavras):
    print(f'Na palavra {vogal}:',end=' ')
    for i in vogal:
        if i in 'aeiouAEIOUÉéÁáÍíÓóÚúÂâÊêÔôÃãÕõÜü': # << kkkk!
            print(i.lower(), end=' ')
    input() #Gambiarra para teclar [ENTER]!
