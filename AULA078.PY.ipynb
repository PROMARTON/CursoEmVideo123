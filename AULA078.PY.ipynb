#https://youtu.be/q8Z1cRdJnfk - Exercício 078 - Minha solução

numb = list()
for c in range (1,6):
  numb.append(int(input(f'Informe o {c}º valor: ')))
print(f'Registrado: {numb}')
print(f'Maior valor: {max(numb)}, posição: ',end='')
for c, v in enumerate(numb):
  if v == max(numb):
    print(f'{c+1}...',end='')
print(f'\nMenor valor: {min(numb)}, posição: ',end='')
for c, v in enumerate(numb):
  if v == min(numb):
    print(f'{c+1}...',end='')
