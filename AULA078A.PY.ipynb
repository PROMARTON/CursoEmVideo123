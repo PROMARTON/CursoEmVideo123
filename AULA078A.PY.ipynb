#https://youtu.be/q8Z1cRdJnfk - Exercício 078 -Comentário Aprimorado

a = list()
for i in range(0, 5):
  a.append(int(input(f'Digite um valor para a posição {i}: ')))
posmax = []
posmin = []
for pos, valor in enumerate(a):
    if valor == max(a):
        posmax.append(pos)
    elif valor == min(a):
        posmin.append(pos)    
print(f'O maior valor foi {max(a)}, na posição {posmax}')
print(f'O menor valor foi {min(a)}, na posição {posmin}')
