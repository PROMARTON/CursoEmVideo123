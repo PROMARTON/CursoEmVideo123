#https://youtu.be/q8Z1cRdJnfk - Exercício 078 - Solução apresentada
lista1 = []
mai = men = int(0)
for c in range (0,5):
  lista1.append(int(input(f'Informe o número na posição {c}: ')))
  if c == 0:
    mai = men = lista1[c]
  else:
    if lista1[c] > mai:
      mai = lista1[c]
    else:
      men = lista1[c]
print(f'Registrado: {lista1}')
print(f'O maior valor: {mai}, na posição: ',end='')
for i, v in enumerate(lista1):
  if v == mai:
    print(f'{i}...',end='')
print(f'\nO menor valor: {men}, na posição: ',end='')
for i, v in enumerate(lista1):
  if v == men:
    print(f'{i}...',end='')
print()
