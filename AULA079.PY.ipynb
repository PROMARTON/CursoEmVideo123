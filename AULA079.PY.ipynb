# https://youtu.be/LkAzRnc_GPk - Exercício 079 - Minha solução

numb = list()
continuar = str('P')
v = int(0)
while continuar not in 'Nn':
  v = (int(input(f'Informe o valor: ')))
  if v not in numb:
    numb.append(v)
  else:
    print(f'Valor duplicado não é registrado!')
  continuar = (str(input(f'Deseja continuar? [S/N]: ')[0]))
  while continuar not in 'Ss' and continuar not in 'Nn':
    print(f'Inválido!')
    continuar = (str(input(f'Deseja continuar? [S/N]: ')[0]))
print(f'Números digitados foram: {sorted(numb)}')
