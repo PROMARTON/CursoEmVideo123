#https://youtu.be/QDpwjBYRcVE - Exercício 080 - Solução apresentada

numb5 = list()
v = int(0)
for c in range (0, 5):
  v = (int(input(f'Informe o valor: ')))
  if c == 0 or v > numb5[-1]:
    numb5.append(v)
    print(f'Adicionado ao final da lista.')
  else:
    posi = 0
    while posi < len(numb5):
      if v <= numb5[posi]:
        numb5.insert(posi, v)
        print(f'Adicionado na posição {posi} da lista.')
        break
      posi += 1
print(f'Valores ordenados: {numb5}.')
