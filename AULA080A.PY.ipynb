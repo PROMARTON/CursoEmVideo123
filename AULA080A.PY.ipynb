#https://youtu.be/QDpwjBYRcVE - Exercício 080 - Comentário

lista = []
for c in range(5):
    n = int(input('Número: '))
    if c == 0 or n > lista[-1]:
        lista.append(n)
        print('Adicionado no final da lista.')
    else:
        for i in range(5):
            if n <= lista[i]:
                lista.insert(i,n)
                print(f'O número foi adicionado na posição {i}.')
                break
print(f'Valores ordenados: {lista}.')
