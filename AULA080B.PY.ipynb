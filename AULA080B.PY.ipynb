#https://youtu.be/QDpwjBYRcVE - Exercício 080 - Comentário

numeros = []
for c in range(5):
    num = int(input('Digite um numero: '))
    for key, value in enumerate(numeros):
        if num < value:
            numeros.insert(key, num)
            print(f'Numero adicionado a posição {key} da lista')
            break
    else: #identação com 'for':
        numeros.append(num)
        print('Numero adicionado ao fim da lista...')
print(f'Os valores digitados foram ordenados {numeros}')
