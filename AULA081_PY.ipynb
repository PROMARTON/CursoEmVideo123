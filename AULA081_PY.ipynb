{
  "nbformat": 4,
  "nbformat_minor": 0,
  "metadata": {
    "colab": {
      "name": "AULA081.PY",
      "provenance": []
    },
    "kernelspec": {
      "name": "python3",
      "display_name": "Python 3"
    }
  },
  "cells": [
    {
      "cell_type": "code",
      "metadata": {
        "id": "bxyoRBl23sMW",
        "colab_type": "code",
        "colab": {
          "base_uri": "https://localhost:8080/",
          "height": 136
        },
        "outputId": "94ffcaa6-8443-4b95-d22b-1980334a8ffb"
      },
      "source": [
        "#https://youtu.be/SXJKAVVlvGA - Exercício 081 - Minha solução\n",
        "\n",
        "numb = list()\n",
        "continuar = str('x')\n",
        "v = int(0)\n",
        "\n",
        "while continuar not in 'Nn':\n",
        "  v = (int(input(f'Informe o valor: ')))\n",
        "  numb.append(v)\n",
        "  continuar = (str(input(f'Deseja continuar? [S/N]: ')[0]))\n",
        "  while continuar not in 'SsNn':\n",
        "    print(f'Inválido!')\n",
        "    continuar = (str(input(f'Deseja continuar? [S/N]: ')[0]))\n",
        "print(f'Você digitou {len(numb)} elemento(s).')\n",
        "numb.sort(reverse=True)\n",
        "print(f'Elementos em ordem decrescente: {numb}')\n",
        "print(f'Valor 5 está incluído na lista.' if (5) in numb else 'Valor 5 não foi incluído.')\n"
      ],
      "execution_count": 12,
      "outputs": [
        {
          "output_type": "stream",
          "text": [
            "Informe o valor: 8\n",
            "Deseja continuar? [S/N]: su\n",
            "Informe o valor: 9\n",
            "Deseja continuar? [S/N]: np\n",
            "Você digitou 2 elemento(s).\n",
            "Elementos em ordem decrescente: [9, 8]\n",
            "Valor 5 não foi incluído.\n"
          ],
          "name": "stdout"
        }
      ]
    }
  ]
}