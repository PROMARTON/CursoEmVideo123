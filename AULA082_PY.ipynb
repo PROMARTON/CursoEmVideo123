{
  "nbformat": 4,
  "nbformat_minor": 0,
  "metadata": {
    "colab": {
      "name": "AULA082.PY",
      "provenance": []
    },
    "kernelspec": {
      "name": "python3",
      "display_name": "Python 3"
    }
  },
  "cells": [
    {
      "cell_type": "code",
      "metadata": {
        "id": "RbfT827PCcqR",
        "colab_type": "code",
        "colab": {
          "base_uri": "https://localhost:8080/",
          "height": 238
        },
        "outputId": "198de86c-3687-4c59-8f74-2436c4004ea7"
      },
      "source": [
        "#https://youtu.be/uk0gDFQEo_I - Exercício 082 - Minha solução\n",
        "\n",
        "nimp, npar, numb = list(), list(), list()\n",
        "continuar = str('x')\n",
        "v = int(0)\n",
        "\n",
        "while continuar not in 'Nn':\n",
        "  v = (int(input(f'Informe o valor: ')))\n",
        "  numb.append(v)\n",
        "  if v % 2 == 0:\n",
        "    npar.append(v)\n",
        "  else:\n",
        "    nimp.append(v)\n",
        "  continuar = (str(input(f'Deseja continuar? [S/N]: ')[0]))\n",
        "  while continuar not in 'SsNn':\n",
        "    print(f'Inválido!')\n",
        "    continuar = (str(input(f'Deseja continuar? [S/N]: ')[0]))\n",
        "\n",
        "print(f'Lista informada: {numb}\\nLista números pares: {npar}\\nLista números ímpares: {nimp}')\n",
        "\n"
      ],
      "execution_count": 16,
      "outputs": [
        {
          "output_type": "stream",
          "text": [
            "Informe o valor: 8\n",
            "Deseja continuar? [S/N]: s\n",
            "Informe o valor: 3\n",
            "Deseja continuar? [S/N]: s\n",
            "Informe o valor: 1\n",
            "Deseja continuar? [S/N]: s\n",
            "Informe o valor: 0\n",
            "Deseja continuar? [S/N]: s\n",
            "Informe o valor: 2\n",
            "Deseja continuar? [S/N]: n\n",
            "Lista informada: [8, 3, 1, 0, 2]\n",
            "Lista números pares: [8, 0, 2]\n",
            "Lista números ímpares: [3, 1]\n"
          ],
          "name": "stdout"
        }
      ]
    },
    {
      "cell_type": "code",
      "metadata": {
        "id": "Y020KS6uFnnr",
        "colab_type": "code",
        "colab": {
          "base_uri": "https://localhost:8080/",
          "height": 102
        },
        "outputId": "eb41b935-9402-4361-a13d-cdb5489a619b"
      },
      "source": [
        "#https://youtu.be/uk0gDFQEo_I - Exercício 082 - Comentário aprimorado\n",
        "\n",
        "lista = []\n",
        "opt = str('x')\n",
        "while opt not in 'Nn':\n",
        "    lista.append(int(input('Digite um número: ')))\n",
        "    opt = (str(input('Quer continuar? [S/N]: ')[0]))\n",
        "    while opt not in 'SsNn':\n",
        "      print(f'Inválido!')\n",
        "      opt = (str(input(f'Deseja continuar? [S/N]: ')[0]))\n",
        "\n",
        "pares = list(filter(lambda x: x % 2 == 0, lista))\n",
        "impares = list(filter(lambda x: x % 2 == 1, lista))\n",
        "\n",
        "print(f'Digitados os números: {lista}\\nPares: {pares}\\nÍmpares: {impares}')\n"
      ],
      "execution_count": 18,
      "outputs": [
        {
          "output_type": "stream",
          "text": [
            "Digite um número: 8\n",
            "Quer continuar? [S/N]: n\n",
            "Digitados os números: [8]\n",
            "Pares: [8]\n",
            "Ímpares: []\n"
          ],
          "name": "stdout"
        }
      ]
    }
  ]
}