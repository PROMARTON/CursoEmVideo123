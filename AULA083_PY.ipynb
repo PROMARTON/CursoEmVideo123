{
  "nbformat": 4,
  "nbformat_minor": 0,
  "metadata": {
    "colab": {
      "name": "AULA083.PY",
      "provenance": []
    },
    "kernelspec": {
      "name": "python3",
      "display_name": "Python 3"
    }
  },
  "cells": [
    {
      "cell_type": "code",
      "metadata": {
        "id": "BOYGf5tZAte_",
        "colab_type": "code",
        "colab": {}
      },
      "source": [
        "#https://youtu.be/dvhP41Z7TLk - EXERCÍCIO 083 - Solução apresentada\n",
        "\n",
        "pilha = list()\n",
        "expre = (str(input('Digite a expressão usando () parênteses: ')))\n",
        "\n",
        "for simb in expre:\n",
        "  if expre == '(':\n",
        "    pilha.append('(')\n",
        "  elif expre == ')':\n",
        "    if len(pilha) > 0:\n",
        "      pilha.pop()\n",
        "    else:\n",
        "      pilha.append(')')\n",
        "      break\n",
        "print ('Expressão válida!' if len(pilha) == 0 else 'Expressão incorreta!')\n"
      ],
      "execution_count": 0,
      "outputs": []
    },
    {
      "cell_type": "code",
      "metadata": {
        "id": "mODAPt6bF8oX",
        "colab_type": "code",
        "colab": {
          "base_uri": "https://localhost:8080/",
          "height": 51
        },
        "outputId": "6d2a02e7-8fdd-4f7f-83ce-12d0210edbc3"
      },
      "source": [
        "#https://youtu.be/dvhP41Z7TLk - EXERCÍCIO 083 - Comentário aprimorado!\n",
        "\n",
        "expr = str(input('Digite uma expressão usando parênteses (): '))\n",
        "if expr.index(')') > expr.index('('):\n",
        "  print('Expressão válida!' if expr.count('(') == expr.count(')') else 'Expressão inválida!')\n",
        "else:\n",
        "  print('Expressão inválida')  "
      ],
      "execution_count": 16,
      "outputs": [
        {
          "output_type": "stream",
          "text": [
            "Digite uma expressão usando parênteses (): (())()(\n",
            "Expressão inválida!\n"
          ],
          "name": "stdout"
        }
      ]
    },
    {
      "cell_type": "code",
      "metadata": {
        "id": "7QryqFoDG5v2",
        "colab_type": "code",
        "colab": {
          "base_uri": "https://localhost:8080/",
          "height": 51
        },
        "outputId": "071225d2-0e10-4505-ed19-34624d042da0"
      },
      "source": [
        "#https://youtu.be/dvhP41Z7TLk - EXERCÍCIO 083 - Comentário aprimorado!\n",
        "\n",
        "expr = str(input('Digite a expressão: '))\n",
        "pi = expr.count('(')\n",
        "pf = expr.count(')')\n",
        "if expr.index(')') > expr.index('('):\n",
        "    print('Expressão válida!' if pi == pf else 'Expressão inválida!')\n",
        "else:\n",
        "    print('Expressão inválida')"
      ],
      "execution_count": 9,
      "outputs": [
        {
          "output_type": "stream",
          "text": [
            "Digite a expressão: ()+((-))+()=()\n",
            "Expressão válida!\n"
          ],
          "name": "stdout"
        }
      ]
    }
  ]
}