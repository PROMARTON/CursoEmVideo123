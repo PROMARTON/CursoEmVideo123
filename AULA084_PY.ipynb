{
  "nbformat": 4,
  "nbformat_minor": 0,
  "metadata": {
    "colab": {
      "name": "AULA084.PY",
      "provenance": [],
      "collapsed_sections": []
    },
    "kernelspec": {
      "name": "python3",
      "display_name": "Python 3"
    }
  },
  "cells": [
    {
      "cell_type": "code",
      "metadata": {
        "id": "XsgbHDDs4CUk",
        "colab_type": "code",
        "outputId": "439287d8-7dbc-439b-fa67-fd8c0df06e05",
        "colab": {
          "base_uri": "https://localhost:8080/",
          "height": 136
        }
      },
      "source": [
        "#https://youtu.be/zPtvuLiEdKk - Exercício 084 - Solução copiada\n",
        "\n",
        "princ, tempor = list(), list()\n",
        "continuar = str('X')\n",
        "maio = meno = int(0)\n",
        "while continuar not in 'Nn':\n",
        "  #tempor = [str(input('Nome: ')), float(input('Massa (kg): '))] #tirar o .clear()\n",
        "  tempor.append(str(input(f'Informe o nome: ')))\n",
        "  tempor.append(float(input(f'Massa em kg: ')))\n",
        "  if len(princ) == 0:\n",
        "    maio = meno = tempor[1]\n",
        "  else:\n",
        "    if tempor[1] > maio:\n",
        "      maio = tempor[1]\n",
        "    if tempor[1] < meno:\n",
        "      meno = tempor[1]\n",
        "  princ.append(tempor[:])\n",
        "  tempor.clear()\n",
        "  continuar = (str(input(f'Deseja continuar? [S/N]: ')[0]))\n",
        "  while continuar not in 'SsNn':\n",
        "    print(f'Inválido!')\n",
        "    continuar = (str(input(f'Deseja continuar? [S/N]: ')[0]))\n",
        "\n",
        "print(f'Você informou {len(princ)} pessoa(s).')\n",
        "\n",
        "print(f'Os destaques da lista: {maio}Kg.',end=' ')\n",
        "for p in princ:\n",
        "  if p[1] == maio:\n",
        "    print(f'[{p[0]}]',end='')\n",
        "\n",
        "print(f'\\nOs desfavorecidos do grupo: {meno}Kg.',end = ' ')\n",
        "for p in princ:\n",
        "  if p[1] == meno:\n",
        "    print(f'[{p[0]}]',end='')\n",
        "\n",
        "print()\n",
        "'Fim!'\n",
        "\n",
        "#maio = list(filter(lambda x: x % 2 == 0, lista))\n",
        "#meno = list(filter(lambda x: x % 2 == 1, lista))"
      ],
      "execution_count": 0,
      "outputs": [
        {
          "output_type": "stream",
          "text": [
            "Informe o nome: 8\n",
            "Massa em kg: 8\n",
            "Deseja continuar? [S/N]: n\n",
            "Você informou 1 pessoa(s).\n",
            "Os destaques da lista: 8.0Kg. [8]\n",
            "Os desfavorecidos do grupo: 8.0Kg. [8]\n"
          ],
          "name": "stdout"
        },
        {
          "output_type": "execute_result",
          "data": {
            "text/plain": [
              "'Fim!'"
            ]
          },
          "metadata": {
            "tags": []
          },
          "execution_count": 19
        }
      ]
    }
  ]
}