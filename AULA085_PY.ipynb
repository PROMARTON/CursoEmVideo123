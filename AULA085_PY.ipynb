{
  "nbformat": 4,
  "nbformat_minor": 0,
  "metadata": {
    "colab": {
      "name": "AULA085.PY",
      "provenance": []
    },
    "kernelspec": {
      "name": "python3",
      "display_name": "Python 3"
    }
  },
  "cells": [
    {
      "cell_type": "code",
      "metadata": {
        "id": "S0GYHezVQbEJ",
        "colab_type": "code",
        "colab": {
          "base_uri": "https://localhost:8080/",
          "height": 221
        },
        "outputId": "6d62900a-cfa8-4294-90d7-251231ea0acd"
      },
      "source": [
        "#https://youtu.be/2-fy24bbMJ4 - Exercício 085 - Solução apresentada\n",
        "\n",
        "princ = [list(), list()]\n",
        "valo = int(0)\n",
        "for c in range (1,8):\n",
        "  valo = (int(input(f'Informe o valor {c} de 7: ')))\n",
        "  if valo % 2 == 0:\n",
        "    princ[0].append(valo)\n",
        "  else:\n",
        "    princ[1].append(valo)\n",
        "\n",
        "print(f'Todos: {princ}')\n",
        "print(f'Pares: {sorted(princ[0])}')\n",
        "print(f'Ímpares: {sorted(princ[1])}')\n",
        "print()\n",
        "'Fim!'\n"
      ],
      "execution_count": 9,
      "outputs": [
        {
          "output_type": "stream",
          "text": [
            "Informe o valor 1 de 7: 8\n",
            "Informe o valor 2 de 7: 3\n",
            "Informe o valor 3 de 7: 2\n",
            "Informe o valor 4 de 7: 8\n",
            "Informe o valor 5 de 7: 5\n",
            "Informe o valor 6 de 7: 3\n",
            "Informe o valor 7 de 7: 1\n",
            "Todos: [[8, 2, 8], [3, 5, 3, 1]]\n",
            "Pares: [2, 8, 8]\n",
            "Ímpares: [1, 3, 3, 5]\n",
            "\n"
          ],
          "name": "stdout"
        },
        {
          "output_type": "execute_result",
          "data": {
            "text/plain": [
              "'Fim!'"
            ]
          },
          "metadata": {
            "tags": []
          },
          "execution_count": 9
        }
      ]
    }
  ]
}