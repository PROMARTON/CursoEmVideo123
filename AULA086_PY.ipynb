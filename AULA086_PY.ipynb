{
  "nbformat": 4,
  "nbformat_minor": 0,
  "metadata": {
    "colab": {
      "name": "AULA086.PY",
      "provenance": []
    },
    "kernelspec": {
      "name": "python3",
      "display_name": "Python 3"
    }
  },
  "cells": [
    {
      "cell_type": "code",
      "metadata": {
        "id": "A4ZLcxi0XQLs",
        "colab_type": "code",
        "colab": {
          "base_uri": "https://localhost:8080/",
          "height": 221
        },
        "outputId": "84177aa3-57c2-450b-a362-325f96c487e8"
      },
      "source": [
        "#https://youtu.be/EGmlFdwD4C4 - Exercício 086 - Matriz 3 x 3\n",
        "\n",
        "#princ = [[0,0,0], [0,0,0], [0,0,0]]\n",
        "princ = [list(), list(), list()]\n",
        "\n",
        "for li in range (0, 3):\n",
        "  for co in range (0,3):princ[li].append(int(input(f\"Digite um valor para [{li},{co}]: \"))) #sem 0 (zeros) na variável\n",
        "    #princ[li][co] = (int(input(f'Informe o valor na posição [{li}, {co}]: ')))\n",
        "for li in range (0, 3):\n",
        "  for co in range (0,3):print(f'[{princ [li][co]:^5}]',end='')\n",
        "  print()\n",
        "\n",
        "#type(princ)\n",
        "#(princ)\n"
      ],
      "execution_count": 21,
      "outputs": [
        {
          "output_type": "stream",
          "text": [
            "Digite um valor para [0,0]: 87\n",
            "Digite um valor para [0,1]: 3\n",
            "Digite um valor para [0,2]: 9\n",
            "Digite um valor para [1,0]: 9\n",
            "Digite um valor para [1,1]: 1\n",
            "Digite um valor para [1,2]: 2\n",
            "Digite um valor para [2,0]: 0\n",
            "Digite um valor para [2,1]: 2\n",
            "Digite um valor para [2,2]: 7\n",
            "[ 87  ][  3  ][  9  ]\n",
            "[  9  ][  1  ][  2  ]\n",
            "[  0  ][  2  ][  7  ]\n"
          ],
          "name": "stdout"
        }
      ]
    },
    {
      "cell_type": "code",
      "metadata": {
        "id": "nQJiB2a2gE6m",
        "colab_type": "code",
        "colab": {
          "base_uri": "https://localhost:8080/",
          "height": 221
        },
        "outputId": "87e1f2a7-4b57-416f-b281-8edd2e684ae0"
      },
      "source": [
        "#https://youtu.be/EGmlFdwD4C4 - Exercício 086 - Matriz 3 x 3 - Comentário\n",
        "\n",
        "matriz = [list(), list(), list()]\n",
        "for c in range(3):\n",
        "    for l in range(3):matriz[c].append(int(input(f'Digite valor para [{c},{l}]: ')))\n",
        "for c in range(3):\n",
        "  print('\\n',end='') if c > 0 else ''\n",
        "  for l in matriz[c]:\n",
        "    print(f'[{l:^5}]', end='')"
      ],
      "execution_count": 22,
      "outputs": [
        {
          "output_type": "stream",
          "text": [
            "Digite valor para [0,0]: 7\n",
            "Digite valor para [0,1]: 3\n",
            "Digite valor para [0,2]: 4\n",
            "Digite valor para [1,0]: 7\n",
            "Digite valor para [1,1]: 1\n",
            "Digite valor para [1,2]: 0\n",
            "Digite valor para [2,0]: 7\n",
            "Digite valor para [2,1]: 3\n",
            "Digite valor para [2,2]: 8\n",
            "[  7  ][  3  ][  4  ]\n",
            "[  7  ][  1  ][  0  ]\n",
            "[  7  ][  3  ][  8  ]"
          ],
          "name": "stdout"
        }
      ]
    }
  ]
}