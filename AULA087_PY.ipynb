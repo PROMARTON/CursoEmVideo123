{
  "nbformat": 4,
  "nbformat_minor": 0,
  "metadata": {
    "colab": {
      "name": "AULA087.PY",
      "provenance": []
    },
    "kernelspec": {
      "name": "python3",
      "display_name": "Python 3"
    }
  },
  "cells": [
    {
      "cell_type": "code",
      "metadata": {
        "id": "-ruNKs4vTHi2",
        "colab_type": "code",
        "colab": {
          "base_uri": "https://localhost:8080/",
          "height": 289
        },
        "outputId": "16bdcbe1-77f0-447a-a8b6-a889d8bc4928"
      },
      "source": [
        "#https://youtu.be/QhS829x6up4 - Exercício 087 - Matriz 3 x 3\n",
        "\n",
        "princ = [list(), list(), list()]\n",
        "somapa = somaco = maio = int(0)\n",
        "for li in range (0, 3):\n",
        "  for co in range (0,3):princ[li].append(int(input(f\"Digite um valor para [{li},{co}]: \"))) \n",
        "for li in range (0, 3):\n",
        "  for co in range (0,3):\n",
        "    print(f'[{princ [li][co]:^5}]',end='')\n",
        "    if princ[li][co] % 2 == 0: #cálculo dos pares\n",
        "      somapa += princ[li][co]\n",
        "    \n",
        "  print() \n",
        "\n",
        "for li in range (0, 3):\n",
        "  somaco += princ[li][2]\n",
        "\n",
        "for co in range (0, 3):\n",
        "  if co == 0:\n",
        "    maio = princ[1][co]\n",
        "  elif princ[1][co] > maio:\n",
        "    maio = princ[1][co]\n",
        "\n",
        "print()\n",
        "print(f'Soma dos pares: {somapa}')\n",
        "print(f'Soma da terceira coluna: {somaco}')\n",
        "print(f'Maior valor da segunda linha: {maio}')\n",
        "\n",
        "\n",
        "\n"
      ],
      "execution_count": 20,
      "outputs": [
        {
          "output_type": "stream",
          "text": [
            "Digite um valor para [0,0]: 8\n",
            "Digite um valor para [0,1]: 9\n",
            "Digite um valor para [0,2]: 4\n",
            "Digite um valor para [1,0]: 2\n",
            "Digite um valor para [1,1]: 6\n",
            "Digite um valor para [1,2]: 9\n",
            "Digite um valor para [2,0]: 1\n",
            "Digite um valor para [2,1]: 0\n",
            "Digite um valor para [2,2]: 3\n",
            "[  8  ][  9  ][  4  ]\n",
            "[  2  ][  6  ][  9  ]\n",
            "[  1  ][  0  ][  3  ]\n",
            "\n",
            "Soma dos pares: 20\n",
            "Soma da terceira coluna: 16\n",
            "Maior valor da segunda linha: 9\n"
          ],
          "name": "stdout"
        }
      ]
    },
    {
      "cell_type": "code",
      "metadata": {
        "id": "iwl3HFYZfki1",
        "colab_type": "code",
        "colab": {
          "base_uri": "https://localhost:8080/",
          "height": 306
        },
        "outputId": "78a0efc3-5175-4144-f77f-aec56346d3a9"
      },
      "source": [
        "#https://youtu.be/QhS829x6up4 - Exercício 087 - Matriz 3 x 3 - Comentário\n",
        "\n",
        "matriz = [[0, 0, 0], [0, 0, 0], [0, 0, 0]]\n",
        "soma_pares = soma_coluna = 0\n",
        "for l in range(3):\n",
        "\tfor c in range(3):\n",
        "\t\tmatriz[l][c] = int(input(f'Informe um valor para: [{l}, {c}] '))\n",
        "print('_' * 30)\n",
        "for l in range(3):\n",
        "\tfor c in range(3):\n",
        "\t\tif c == 2:  #--------------------------------------- B)\n",
        "\t\t\tsoma_coluna += matriz[l][c]#-------- B)\n",
        "\t\tif matriz[l][c] % 2 == 0:#-------------------- A)\n",
        "\t\t\tsoma_pares += matriz[l][c]#---------- A)\n",
        "\t\tprint(f'[{matriz[l][c] :^5}]', end=' ')\n",
        "\tprint()\n",
        "print('_' * 30)\n",
        "print(f'A soma dos valores PARES é de {soma_pares}')\n",
        "print(f'A soma dos valores da 3° coluna é de {soma_coluna}')\n",
        "print(f'O maior valor da 2° linha é de {max(matriz[1])}')"
      ],
      "execution_count": 21,
      "outputs": [
        {
          "output_type": "stream",
          "text": [
            "Informe um valor para: [0, 0] 8\n",
            "Informe um valor para: [0, 1] 6\n",
            "Informe um valor para: [0, 2] 2\n",
            "Informe um valor para: [1, 0] 1\n",
            "Informe um valor para: [1, 1] 9\n",
            "Informe um valor para: [1, 2] 3\n",
            "Informe um valor para: [2, 0] 7\n",
            "Informe um valor para: [2, 1] 8\n",
            "Informe um valor para: [2, 2] 0\n",
            "______________________________\n",
            "[  8  ] [  6  ] [  2  ] \n",
            "[  1  ] [  9  ] [  3  ] \n",
            "[  7  ] [  8  ] [  0  ] \n",
            "______________________________\n",
            "A soma dos valores PARES é de 24\n",
            "A soma dos valores da 3° coluna é de 5\n",
            "O maior valor da 2° linha é de 9\n"
          ],
          "name": "stdout"
        }
      ]
    }
  ]
}