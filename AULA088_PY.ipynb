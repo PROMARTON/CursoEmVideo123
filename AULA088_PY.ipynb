{
  "nbformat": 4,
  "nbformat_minor": 0,
  "metadata": {
    "colab": {
      "name": "AULA088.PY",
      "provenance": [],
      "collapsed_sections": []
    },
    "kernelspec": {
      "name": "python3",
      "display_name": "Python 3"
    }
  },
  "cells": [
    {
      "cell_type": "code",
      "metadata": {
        "id": "3cYYpMI4os_7",
        "colab_type": "code",
        "outputId": "272dd519-b2d8-4b3f-87a8-ef5b28137eda",
        "colab": {
          "base_uri": "https://localhost:8080/",
          "height": 102
        }
      },
      "source": [
        "#https://youtu.be/Hd7Ycaj61xE - Exercício 088 - Mega Sena - Comentário\n",
        "\n",
        "from random import sample\n",
        "\n",
        "a = list()\n",
        "n = int(input('Quantos jogos?: '))\n",
        "for c in range(n):\n",
        "  a = sorted(sample(range(1, 61), 6))\n",
        "  print(f'Jogo {c+1}: {a}')\n",
        "\n",
        "\n"
      ],
      "execution_count": 0,
      "outputs": [
        {
          "output_type": "stream",
          "text": [
            "Quantos jogos?: 4\n",
            "Jogo 1: [2, 3, 5, 9, 15, 29]\n",
            "Jogo 2: [24, 29, 36, 44, 49, 58]\n",
            "Jogo 3: [4, 19, 38, 47, 50, 59]\n",
            "Jogo 4: [13, 19, 20, 38, 43, 59]\n"
          ],
          "name": "stdout"
        }
      ]
    },
    {
      "cell_type": "code",
      "metadata": {
        "id": "7ZKTTUjtrZwU",
        "colab_type": "code",
        "outputId": "f4ebe54e-9c29-4e1c-eedd-770475765f68",
        "colab": {
          "base_uri": "https://localhost:8080/",
          "height": 102
        }
      },
      "source": [
        "#https://youtu.be/Hd7Ycaj61xE - Exercício 088 - Solução apresentada\n",
        "\n",
        "from random import randint\n",
        "jogos1, jogos = list(), list()\n",
        "quant = int(input('Quantidade de jogos: '))\n",
        "tot = int(1)\n",
        "while tot <= quant:\n",
        "  conta = int(0)\n",
        "  while True:\n",
        "    numeros = randint(1,60)\n",
        "    if numeros not in jogos:\n",
        "      jogos.append(numeros)\n",
        "      conta += 1\n",
        "    if conta >= 6:\n",
        "      break\n",
        "  jogos.sort()\n",
        "  jogos1.append(jogos[:])\n",
        "  jogos.clear()\n",
        "  tot+=1\n",
        "for i, l in enumerate(jogos1):\n",
        "  print(f'Jogo {i+1}: {l}')\n",
        "#print(f'Sorteio: {sorted(jogos1)}')\n",
        "\n",
        "\n",
        "  \n"
      ],
      "execution_count": 0,
      "outputs": [
        {
          "output_type": "stream",
          "text": [
            "Quantidade de jogos: 4\n",
            "Jogo 1: [1, 10, 14, 25, 29, 30]\n",
            "Jogo 2: [10, 15, 24, 39, 56, 57]\n",
            "Jogo 3: [1, 7, 12, 40, 43, 47]\n",
            "Jogo 4: [5, 13, 20, 35, 37, 39]\n"
          ],
          "name": "stdout"
        }
      ]
    }
  ]
}