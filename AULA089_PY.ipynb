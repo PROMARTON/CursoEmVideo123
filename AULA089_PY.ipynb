{
  "nbformat": 4,
  "nbformat_minor": 0,
  "metadata": {
    "colab": {
      "name": "AULA089.PY",
      "provenance": []
    },
    "kernelspec": {
      "name": "python3",
      "display_name": "Python 3"
    }
  },
  "cells": [
    {
      "cell_type": "code",
      "metadata": {
        "id": "_rmdMFCRHM3m",
        "colab_type": "code",
        "outputId": "820eb356-aad5-499e-959f-57e0b15fd20b",
        "colab": {
          "base_uri": "https://localhost:8080/",
          "height": 680
        }
      },
      "source": [
        "#https://youtu.be/7xrCJnniqMw - Exercício 89 - Solução apresentada [com aprimoramentos]\n",
        "\n",
        "dados = list()\n",
        "cont = str('0')\n",
        "media = n1 = n2 = float(0)\n",
        "while cont not in 'nN':\n",
        "  nom = (str(input('Nome: '))).upper()\n",
        "  n1 = (float(input('Nota 1: ')))\n",
        "  n2 = (float(input('Nota 2: ')))\n",
        "\n",
        "  while n1 > 10 or n2 > 10:\n",
        "    print('Nota incorreta ou 0.0 (zero)!\\nConfirme!')\n",
        "    n1 = (float(input('Nota 1: ')))\n",
        "    n2 = (float(input('Nota 2: ')))\n",
        "    \n",
        "    if (0 < n1 < 10) and (0 < n2 < 10):\n",
        "      break\n",
        "\n",
        "  media = ((n1 + n2)/2)\n",
        "  dados.append([nom, [n1, n2], media])\n",
        "  cont = (str(input('Continue? [S/N]: ')))\n",
        "  \n",
        "  while cont not in 'SsNn':\n",
        "    print('Inválido!')\n",
        "    cont = (str(input('Continue? [S/N]: ')))\n",
        "\n",
        "print(f'{\"Nº\":<4}{\"Nome\":<10}{\"Média\":>8}')\n",
        "print('='*30)\n",
        "for i, a in enumerate(dados):\n",
        "  print(f'{i:<4}{a[0]:<10}{a[2]:>6.1f}')\n",
        "while True:\n",
        "  print('#'*30)\n",
        "  opt = (int(input('Exibir notas de aluno? (999/Finalizar):')))\n",
        "  if opt == 999:\n",
        "    print('Finalizado!')\n",
        "    break\n",
        "  elif opt > len(dados)-1:\n",
        "    print(f'Inválido.Tente novamente!')\n",
        "  elif opt <= len(dados)-1:\n",
        "    print(f'Notas de {dados[opt][0]} são {dados[opt][1]}.')\n",
        "\n",
        "#dados\n"
      ],
      "execution_count": 0,
      "outputs": [
        {
          "output_type": "stream",
          "text": [
            "Nome: juli\n",
            "Nota 1: 9\n",
            "Nota 2: 99\n",
            "Nota incorreta ou 0.0 (zero)!\n",
            "Confirme!\n",
            "Nota 1: 9\n",
            "Nota 2: 10\n",
            "Continue? [S/N]: s\n",
            "Nome: kaio\n",
            "Nota 1: 9\n",
            "Nota 2: 10\n",
            "Continue? [S/N]: s\n",
            "Nome: kaua\n",
            "Nota 1: 10\n",
            "Nota 2: 10\n",
            "Continue? [S/N]: n\n",
            "Nº  Nome         Média\n",
            "==============================\n",
            "0   JULI         9.5\n",
            "1   KAIO         9.5\n",
            "2   KAUA        10.0\n",
            "##############################\n",
            "Exibir notas de aluno? (999/Finalizar):9\n",
            "Inválido.Tente novamente!\n",
            "##############################\n",
            "Exibir notas de aluno? (999/Finalizar):5\n",
            "Inválido.Tente novamente!\n",
            "##############################\n",
            "Exibir notas de aluno? (999/Finalizar):0\n",
            "Notas de JULI são [9.0, 10.0].\n",
            "##############################\n",
            "Exibir notas de aluno? (999/Finalizar):2\n",
            "Notas de KAUA são [10.0, 10.0].\n",
            "##############################\n",
            "Exibir notas de aluno? (999/Finalizar):1\n",
            "Notas de KAIO são [9.0, 10.0].\n",
            "##############################\n",
            "Exibir notas de aluno? (999/Finalizar):999\n",
            "Finalizado!\n"
          ],
          "name": "stdout"
        }
      ]
    }
  ]
}