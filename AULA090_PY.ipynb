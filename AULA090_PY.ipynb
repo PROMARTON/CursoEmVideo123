{
  "nbformat": 4,
  "nbformat_minor": 0,
  "metadata": {
    "colab": {
      "name": "AULA090.PY",
      "provenance": [],
      "authorship_tag": "ABX9TyNJse4kXlq8yf7pEPjeOsuS"
    },
    "kernelspec": {
      "name": "python3",
      "display_name": "Python 3"
    }
  },
  "cells": [
    {
      "cell_type": "code",
      "metadata": {
        "id": "ApmDzLaJhrRJ",
        "colab_type": "code",
        "outputId": "18c711e9-73a7-4981-dfe2-be5c55c5bb68",
        "colab": {
          "base_uri": "https://localhost:8080/",
          "height": 119
        }
      },
      "source": [
        "#https://youtu.be/HipQYUk4koA - Exercício 090 - Solução apresentada\n",
        "\n",
        "aluno = dict()\n",
        "aluno ['Nome'] = str(input('Nome: ')).upper()\n",
        "aluno ['Media'] = float(input(f'Média para {aluno[\"Nome\"]}: '))\n",
        "if aluno['Media'] >= 7:\n",
        "  aluno['Situacao'] = 'Aprovado(a)'\n",
        "elif 5 <= aluno['Media'] < 7:\n",
        "  aluno['Situacao'] = 'Recuperação'\n",
        "else:\n",
        "  aluno['Situacao'] = 'Reprovado(a)'\n",
        "print()\n",
        "for x, y in aluno.items():\n",
        "  print(f' -{x} >>> {y}')\n",
        "\n",
        "\n",
        "#print(aluno)\n",
        "\n",
        "\n"
      ],
      "execution_count": 0,
      "outputs": [
        {
          "output_type": "stream",
          "text": [
            "Nome: jiba\n",
            "Média para JIBA: 8\n",
            "\n",
            " -Nome >>> JIBA\n",
            " -Media >>> 8.0\n",
            " -Situacao >>> Aprovado(a)\n"
          ],
          "name": "stdout"
        }
      ]
    },
    {
      "cell_type": "code",
      "metadata": {
        "id": "ZpKaeSeolfXo",
        "colab_type": "code",
        "outputId": "c879e02e-57ae-4471-f790-982baba20103",
        "colab": {
          "base_uri": "https://localhost:8080/",
          "height": 102
        }
      },
      "source": [
        "#https://youtu.be/HipQYUk4koA - Exercício 090 - Comentário\n",
        "\n",
        "aluno = {'Nome':str(input('Nome: ')).strip().capitalize(), 'Média': float(input('Média: '))}\n",
        "aluno['Situação'] = {'Aprovado' if aluno[\"Média\"] > 7  else 'Reprovado'}\n",
        "\n",
        "for x, y in aluno.items():\n",
        "    print(f'{x}: {y}')"
      ],
      "execution_count": 0,
      "outputs": [
        {
          "output_type": "stream",
          "text": [
            "Nome: juli\n",
            "Média: 9\n",
            "Nome: Juli \n",
            "Média: 9.0 \n",
            "Situação: {'Aprovado'} \n"
          ],
          "name": "stdout"
        }
      ]
    }
  ]
}