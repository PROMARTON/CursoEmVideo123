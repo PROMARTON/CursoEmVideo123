{
  "nbformat": 4,
  "nbformat_minor": 0,
  "metadata": {
    "colab": {
      "name": "AULA091.PY",
      "provenance": [],
      "authorship_tag": "ABX9TyNkS5wwaX5iy5vTtL77KLfC"
    },
    "kernelspec": {
      "name": "python3",
      "display_name": "Python 3"
    }
  },
  "cells": [
    {
      "cell_type": "code",
      "metadata": {
        "id": "I8dQLZ2WtOPV",
        "colab_type": "code",
        "outputId": "76352d96-4f87-4f6c-a68f-52b5bb9bd036",
        "colab": {
          "base_uri": "https://localhost:8080/",
          "height": 191
        }
      },
      "source": [
        "#https://youtu.be/cwrqIztaAwk - AULA 091 - Solução apresentada\n",
        "\n",
        "from random import randint\n",
        "from operator import itemgetter\n",
        "rank = list()\n",
        "jogo = dict({'jogador1': randint(1,6),\n",
        "             'jogador2': randint(1,6),\n",
        "             'jogador3': randint(1,6),\n",
        "             'jogador4': randint(1,6)\n",
        "            })\n",
        "print('Sorteio: ')\n",
        "for k, v in jogo.items():\n",
        "  print(f'O {k} sorteou o número: {v}')\n",
        "print()\n",
        "rank = sorted(jogo.items(), key=itemgetter(1), reverse=True)\n",
        "for i, v in enumerate(rank):\n",
        "  print(f'{i+1}º lugar: {v[0]} com {v[1]}.')\n",
        "\n"
      ],
      "execution_count": 0,
      "outputs": [
        {
          "output_type": "stream",
          "text": [
            "Sorteio: \n",
            "O jogador1 sorteou o número: 2\n",
            "O jogador2 sorteou o número: 3\n",
            "O jogador3 sorteou o número: 6\n",
            "O jogador4 sorteou o número: 5\n",
            "1º lugar: jogador3 com 6.\n",
            "2º lugar: jogador4 com 5.\n",
            "3º lugar: jogador2 com 3.\n",
            "4º lugar: jogador1 com 2.\n"
          ],
          "name": "stdout"
        },
        {
          "output_type": "execute_result",
          "data": {
            "text/plain": [
              "{'jogador1': 2, 'jogador2': 3, 'jogador3': 6, 'jogador4': 5}"
            ]
          },
          "metadata": {
            "tags": []
          },
          "execution_count": 7
        }
      ]
    },
    {
      "cell_type": "code",
      "metadata": {
        "id": "3-iB3FlImaaj",
        "colab_type": "code",
        "outputId": "c2aed609-af4d-43e8-f9aa-f9ba7a12957a",
        "colab": {
          "base_uri": "https://localhost:8080/",
          "height": 208
        }
      },
      "source": [
        "#https://youtu.be/cwrqIztaAwk - AULA 091 - Comentário\n",
        "\n",
        "from random import randint\n",
        "\n",
        "print('Valores sorteados:')\n",
        "jogo = dict()\n",
        "for k in range(1, 5):\n",
        "    j = 'jogador' + str(k)\n",
        "    jogo[j] = randint(1, 6)\n",
        "    print(f'{j} tirou {jogo[j]} no dado')\n",
        "print('-=' * 30)\n",
        "print(' ==RANKING DOS JOGADORES == ')\n",
        "c = 1\n",
        "for k in sorted(jogo, key = jogo.get, reverse=True):\n",
        "    print(f'{c}° lugar: {k} tirou {jogo[k]}')\n",
        "    c += 1"
      ],
      "execution_count": 0,
      "outputs": [
        {
          "output_type": "stream",
          "text": [
            "Valores sorteados:\n",
            "jogador1 tirou 6 no dado\n",
            "jogador2 tirou 3 no dado\n",
            "jogador3 tirou 6 no dado\n",
            "jogador4 tirou 1 no dado\n",
            "-=-=-=-=-=-=-=-=-=-=-=-=-=-=-=-=-=-=-=-=-=-=-=-=-=-=-=-=-=-=\n",
            " ==RANKING DOS JOGADORES == \n",
            "1° lugar: jogador1 tirou 6\n",
            "2° lugar: jogador3 tirou 6\n",
            "3° lugar: jogador2 tirou 3\n",
            "4° lugar: jogador4 tirou 1\n"
          ],
          "name": "stdout"
        }
      ]
    }
  ]
}