{
  "nbformat": 4,
  "nbformat_minor": 0,
  "metadata": {
    "colab": {
      "name": "AULA092.PY",
      "provenance": [],
      "authorship_tag": "ABX9TyPS1kfOaNXlunWwt9HyE/iK"
    },
    "kernelspec": {
      "name": "python3",
      "display_name": "Python 3"
    }
  },
  "cells": [
    {
      "cell_type": "code",
      "metadata": {
        "id": "zkSRh7Bdy-Ht",
        "colab_type": "code",
        "outputId": "751e0ceb-d76f-4fe9-b09f-71fb63f6086c",
        "colab": {
          "base_uri": "https://localhost:8080/",
          "height": 204
        }
      },
      "source": [
        "#https://youtu.be/Vsqemzdrj78 - Exercício 092 - Solução apresentada\n",
        "\n",
        "from datetime import datetime\n",
        "\n",
        "info = dict()\n",
        "info['nome'] = str(input('Nome: '))\n",
        "dnasc = int(input('Ano de nascimento: '))\n",
        "info['idade'] = datetime.now().year - dnasc\n",
        "info['ctps'] = int(input('Número CTPS [0 p/ Nenhum]: '))\n",
        "if info['ctps'] != 0:\n",
        "  info['contrata'] = int(input('Ano de contração: '))\n",
        "  info['salario']  = float(input('Salário: '))\n",
        "  info['aposenta'] = info['idade'] + ((info['contrata']+35 ) - datetime.now().year)\n",
        "# info['aposenta'] = (info['contrata'] - dnasc + 35) 2ª opção cálculo da aposentadoria\n",
        "\n",
        "for k, v in info.items():\n",
        "  print(f' - {k} tem o valor {v}.')\n",
        "\n",
        "#info\n"
      ],
      "execution_count": 0,
      "outputs": [
        {
          "output_type": "stream",
          "text": [
            "Nome: jane\n",
            "Ano de nascimento: 1988\n",
            "Número CTPS [0 p/ Nenhum]: 322\n",
            "Ano de contração: 2000\n",
            "Salário: 2343\n",
            " - nome tem o valor jane.\n",
            " - idade tem o valor 32.\n",
            " - ctps tem o valor 322.\n",
            " - contrata tem o valor 2000.\n",
            " - salario tem o valor 2343.0.\n",
            " - aposenta tem o valor 47.\n"
          ],
          "name": "stdout"
        }
      ]
    },
    {
      "cell_type": "code",
      "metadata": {
        "id": "HgMyThUl5J8t",
        "colab_type": "code",
        "outputId": "7f006809-4cc3-4fa8-9295-ffbd7f37194e",
        "colab": {
          "base_uri": "https://localhost:8080/",
          "height": 272
        }
      },
      "source": [
        "#https://youtu.be/Vsqemzdrj78 - Exercício 092 - Comentário\n",
        "\n",
        "from datetime import date\n",
        "trabalhador = {}\n",
        "trabalhador['nome'] = input('Nome: ')\n",
        "trabalhador['idade'] = date.today().year - int(input('Ano de nascimmento: '))\n",
        "trabalhador['ctps'] = int(input('Carteira de trabalho: (0 não tem)'))\n",
        "if trabalhador['ctps'] == 0:\n",
        "    for k, v in trabalhador.items():\n",
        "        print(f'{k} tem o valor {v}')\n",
        "else:\n",
        "    trabalhador['contrato'] = int(input('Digite o ano de contratação: '))\n",
        "    trabalhador['aposentadoria'] = (trabalhador['contrato']  -  trabalhador[\"idade\"]) + 35\n",
        "    trabalhador['salario'] = int(input('Digite o salário: '))\n",
        "    print('-=' * 25)\n",
        "    print()\n",
        "    for k, v in trabalhador.items():\n",
        "        print(f'- {k} tem o valor {v}')\n",
        "print('\\nFim do programa')"
      ],
      "execution_count": 0,
      "outputs": [
        {
          "output_type": "stream",
          "text": [
            "Nome: jota\n",
            "Ano de nascimmento: 1956\n",
            "Carteira de trabalho: (0 não tem)1222\n",
            "Digite o ano de contratação: 1995\n",
            "Digite o salário: 2000\n",
            "-=-=-=-=-=-=-=-=-=-=-=-=-=-=-=-=-=-=-=-=-=-=-=-=-=\n",
            "\n",
            "- nome tem o valor jota\n",
            "- idade tem o valor 64\n",
            "- ctps tem o valor 1222\n",
            "- contrato tem o valor 1995\n",
            "- aposentadoria tem o valor 1966\n",
            "- salario tem o valor 2000\n",
            "\n",
            "Fim do programa\n"
          ],
          "name": "stdout"
        }
      ]
    }
  ]
}